{
 "cells": [
  {
   "cell_type": "markdown",
   "id": "c34bf4bb",
   "metadata": {},
   "source": [
    "# Task 1: Data Preprocessing:"
   ]
  },
  {
   "cell_type": "markdown",
   "id": "261cb6d1",
   "metadata": {},
   "source": [
    "Step 1 - Request for Dataset: acquiring the relevant dataset\n",
    "Step 2 - Import Libraries: Import all relevant libraries Example (Numpy, Pandas, Matplotlib, etc)\n",
    "Step 3 - Import Dataset: fetch data from acquired relevant dataset (.csv, xls, etc)\n",
    "Step 4 - Identifying & Handling missing values\n",
    "Step 5 - Encoding categorical Data\n",
    "Step 6 - Data spliting to Training Set and Test Set\n",
    "Step 7 - Feature scaling - Method to standardize the independent variables "
   ]
  },
  {
   "cell_type": "markdown",
   "id": "de701a53",
   "metadata": {},
   "source": [
    "# Task 2: Feature Selection and Engineering"
   ]
  },
  {
   "attachments": {},
   "cell_type": "markdown",
   "id": "612e8a83",
   "metadata": {},
   "source": [
    "There are 2 types of feature selection methods\n",
    "\n",
    "    1. Supervised: Considering the target variable and can be used for the labelled dataset.\n",
    "        - Wrapper Method\n",
    "        - Embedded Method\n",
    "        - Filter Method\n",
    "    2. Unsupervised Ignore the target variable and can be used for the unlabelled dataset.\n",
    "    \n"
   ]
  },
  {
   "cell_type": "markdown",
   "id": "da62e892",
   "metadata": {},
   "source": [
    "# Task 3: Algorithms: "
   ]
  },
  {
   "cell_type": "markdown",
   "id": "4de8dd68",
   "metadata": {},
   "source": [
    "XGBoost, Random Forest are the best model for the prediction for car prices because they provide high accuracy."
   ]
  },
  {
   "cell_type": "markdown",
   "id": "54a857a3",
   "metadata": {},
   "source": [
    "# Task 4: Training, Evaluation & Selection"
   ]
  },
  {
   "cell_type": "code",
   "execution_count": null,
   "id": "268c5528",
   "metadata": {},
   "outputs": [],
   "source": [
    "#Splitting dataset into training and testing sets\n",
    "\n",
    "X_train, X_test, Y_train, Y_test = train_test_split(X, Y, test_size = 0.1, random_state=2)\n",
    "\n",
    "#Initialize LinearRegression Model\n",
    "\n",
    "lin_reg_model = LinearRegression()\n",
    "\n",
    "lin_reg_model.fit(X_train,Y_train)\n",
    "\n",
    "#Evaluation of LinearRegression Model - R squared model\n",
    "\n",
    "training_data_prediction = lin_reg_model.predict(X_train)\n",
    "error_score = metrics.r2_score(Y_train, training_data_prediction\n",
    "                               \n",
    "                               \n",
    "#Evaluation of LASSO Regression Model - R squared model\n",
    "                               \n",
    "test_data_prediction = lass_reg_model.predict(X_test)\n",
    "                               \n",
    "error_score = metrics.r2_score(Y_test, test_data_prediction)\n",
    "                               \n",
    "                               \n",
    "#Lasso Regression Model shows better results\n",
    "\n",
    "                               \n",
    "                               \n",
    "\n"
   ]
  }
 ],
 "metadata": {
  "kernelspec": {
   "display_name": "Python 3 (ipykernel)",
   "language": "python",
   "name": "python3"
  },
  "language_info": {
   "codemirror_mode": {
    "name": "ipython",
    "version": 3
   },
   "file_extension": ".py",
   "mimetype": "text/x-python",
   "name": "python",
   "nbconvert_exporter": "python",
   "pygments_lexer": "ipython3",
   "version": "3.10.9"
  }
 },
 "nbformat": 4,
 "nbformat_minor": 5
}
